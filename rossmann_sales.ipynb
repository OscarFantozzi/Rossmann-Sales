{
 "cells": [
  {
   "cell_type": "markdown",
   "id": "1f4cc20d",
   "metadata": {},
   "source": [
    "# 0.0. IMPORTS"
   ]
  },
  {
   "cell_type": "code",
   "execution_count": 2,
   "id": "d65a9634",
   "metadata": {
    "ExecuteTime": {
     "end_time": "2023-03-08T19:30:28.978564Z",
     "start_time": "2023-03-08T19:30:28.960614Z"
    }
   },
   "outputs": [],
   "source": [
    "import pandas as pd\n",
    "import inflection\n",
    "import math\n",
    "import numpy as np\n",
    "import seaborn as sns\n",
    "import datetime\n",
    "\n",
    "\n",
    "from datetime import datetime, timedelta\n",
    "from matplotlib      import pyplot as plt\n",
    "from IPython.display import Image\n"
   ]
  },
  {
   "cell_type": "markdown",
   "id": "0ab8b1d7",
   "metadata": {},
   "source": [
    "## 0.1.0 Helper Functions"
   ]
  },
  {
   "cell_type": "markdown",
   "id": "db019c5c",
   "metadata": {},
   "source": [
    "## 0.2.0. Loading Data"
   ]
  },
  {
   "cell_type": "code",
   "execution_count": 3,
   "id": "6570a8cc",
   "metadata": {
    "ExecuteTime": {
     "end_time": "2023-03-08T19:30:30.470589Z",
     "start_time": "2023-03-08T19:30:28.985546Z"
    }
   },
   "outputs": [],
   "source": [
    "# arquivo com as vendas das lojas\n",
    "df_sales_raw = pd.read_csv( 'data/train.csv', low_memory = False )\n",
    "\n",
    "# arquivo com as caracteristicas das lojas\n",
    "df_store_raw = pd.read_csv( 'data/store.csv', low_memory = False )\n",
    "\n",
    "# merge com base na chave comum \"Store\"\n",
    "df_raw = pd.merge( df_sales_raw, df_store_raw, how = 'left', on = 'Store' )"
   ]
  },
  {
   "cell_type": "markdown",
   "id": "89882ec2",
   "metadata": {},
   "source": [
    "# 1.0. PASSO 01 - DESCRIÇÃO DOS DADOS"
   ]
  },
  {
   "cell_type": "code",
   "execution_count": 4,
   "id": "a3e29215",
   "metadata": {
    "ExecuteTime": {
     "end_time": "2023-03-08T19:30:30.722424Z",
     "start_time": "2023-03-08T19:30:30.489540Z"
    }
   },
   "outputs": [],
   "source": [
    "df1 = df_raw.copy()"
   ]
  },
  {
   "cell_type": "markdown",
   "id": "2ee7be6b",
   "metadata": {
    "heading_collapsed": true
   },
   "source": [
    "## Explicação das colunas\n",
    "\n",
    "* store - ID único para cada loja\n",
    "\n",
    "\n",
    "* day_of_week - dia da semana em números inteiros\n",
    "\n",
    "\n",
    "* date - data que foi feita a venda\n",
    "\n",
    "\n",
    "* sales - valor das vendas em determinado dia\n",
    "\n",
    "\n",
    "* customers - número de clientes em determinado dia\n",
    "\n",
    "\n",
    "* open - indicador se a loja estava aberta e fechada 0 = closed, 1 = open\n",
    "\n",
    "\n",
    "* promo - Indica se a loja estava com promoção naquele dia\n",
    "\n",
    "\n",
    "* state_holiday - indicates a state holiday. Normally all stores, with few exceptions, are closed on state holidays. Note that all schools are closed on public holidays and weekends. a = public holiday, b = Easter holiday, c = Christmas, 0 = None\n",
    "\n",
    "\n",
    "* school_holiday - indicates if the (Store, Date) was affected by the closure of public schools\n",
    "\n",
    "\n",
    "\n",
    "* store_type - differentiates between 4 different store models: a, b, c, d\n",
    "\n",
    "\n",
    "* assortment - describes an assortment level: a = basic, b = extra, c = extended\n",
    "\n",
    "\n",
    "* competition_distance - distance in meters to the nearest competitor store\n",
    "\n",
    "\n",
    "* competition_open_since_month - gives the approximate month of the time the nearest competitor was opened\n",
    "\n",
    "\n",
    "* competition_open_since_year - gives the approximate year of the time the nearest competitor was opened\n",
    "\n",
    "\n",
    "* promo2 - Promo2 is a continuing and consecutive promotion for some stores: 0 = store is not participating, 1 = store is participating\n",
    "\n",
    "\n",
    "\n",
    "* promo2_since_week - describes the week when the store started participating in Promo2\n",
    "\n",
    "\n",
    "* promo2_since_year - describes the year when the store started participating in Promo2\n",
    "\n",
    "\n",
    "* promo_interval - describes the consecutive intervals Promo2 is started, naming the months the promotion is started anew. E.g. \"Feb,May,Aug,Nov\" means each round starts in February, May, August, November of any given year for that store\n",
    "\n"
   ]
  },
  {
   "cell_type": "markdown",
   "id": "a85083b8",
   "metadata": {},
   "source": [
    "## 1.1. Rename Columns"
   ]
  },
  {
   "cell_type": "code",
   "execution_count": 5,
   "id": "987a12d8",
   "metadata": {
    "ExecuteTime": {
     "end_time": "2023-03-08T19:30:30.738390Z",
     "start_time": "2023-03-08T19:30:30.725419Z"
    }
   },
   "outputs": [],
   "source": [
    "# crio uma lista com o nome das colunas antigos\n",
    "cols_old = ['Store', 'DayOfWeek', 'Date', 'Sales', 'Customers', 'Open', 'Promo',\n",
    "           'StateHoliday', 'SchoolHoliday', 'StoreType', 'Assortment',\n",
    "           'CompetitionDistance', 'CompetitionOpenSinceMonth',\n",
    "           'CompetitionOpenSinceYear', 'Promo2', 'Promo2SinceWeek',\n",
    "           'Promo2SinceYear', 'PromoInterval']\n",
    "\n",
    "# coloco as colunas no estilo snake_case\n",
    "snake_case = lambda x : inflection.underscore( x ) # defino a lambda function\n",
    "\n",
    "# aplico o map para cada nome cols_old e crio a lista cols_new\n",
    "cols_new = list( map( snake_case, cols_old ) )\n",
    "\n",
    "# renomeio as coluanas do dataset\n",
    "df1.columns = cols_new"
   ]
  },
  {
   "cell_type": "markdown",
   "id": "1d89709b",
   "metadata": {},
   "source": [
    "## 1.2. Data Dimensions"
   ]
  },
  {
   "cell_type": "code",
   "execution_count": 28,
   "id": "be41140e",
   "metadata": {
    "ExecuteTime": {
     "end_time": "2023-03-08T20:11:25.618768Z",
     "start_time": "2023-03-08T20:11:25.609752Z"
    }
   },
   "outputs": [
    {
     "name": "stdout",
     "output_type": "stream",
     "text": [
      "Number of rows 1017209\n",
      "Number of columns 20\n"
     ]
    }
   ],
   "source": [
    "print( 'Number of rows {}'.format( df1.shape[0] ) )\n",
    "print( 'Number of columns {}'.format( df1.shape[1] ) )"
   ]
  },
  {
   "cell_type": "markdown",
   "id": "f2ce5d12",
   "metadata": {},
   "source": [
    "## 1.3. Data Types"
   ]
  },
  {
   "cell_type": "code",
   "execution_count": 7,
   "id": "82751fb6",
   "metadata": {
    "ExecuteTime": {
     "end_time": "2023-03-08T19:30:32.237035Z",
     "start_time": "2023-03-08T19:30:32.065746Z"
    }
   },
   "outputs": [
    {
     "name": "stdout",
     "output_type": "stream",
     "text": [
      "store                                    int64\n",
      "day_of_week                              int64\n",
      "date                            datetime64[ns]\n",
      "sales                                    int64\n",
      "customers                                int64\n",
      "open                                     int64\n",
      "promo                                    int64\n",
      "state_holiday                           object\n",
      "school_holiday                           int64\n",
      "store_type                              object\n",
      "assortment                              object\n",
      "competition_distance                   float64\n",
      "competition_open_since_month           float64\n",
      "competition_open_since_year            float64\n",
      "promo2                                   int64\n",
      "promo2_since_week                      float64\n",
      "promo2_since_year                      float64\n",
      "promo_interval                          object\n",
      "dtype: object\n"
     ]
    }
   ],
   "source": [
    "# alterando o tipo da coluna date de int para date 64 \n",
    "df1['date'] = pd.to_datetime( df1['date'] )\n",
    "\n",
    "# exibindo os tipos de dados\n",
    "print( df1.dtypes )"
   ]
  },
  {
   "cell_type": "markdown",
   "id": "3c90f74e",
   "metadata": {},
   "source": [
    "## 1.4. Check NA"
   ]
  },
  {
   "cell_type": "code",
   "execution_count": 8,
   "id": "04d8b7b7",
   "metadata": {
    "ExecuteTime": {
     "end_time": "2023-03-08T19:30:33.552516Z",
     "start_time": "2023-03-08T19:30:33.009302Z"
    }
   },
   "outputs": [
    {
     "data": {
      "text/plain": [
       "store                                0\n",
       "day_of_week                          0\n",
       "date                                 0\n",
       "sales                                0\n",
       "customers                            0\n",
       "open                                 0\n",
       "promo                                0\n",
       "state_holiday                        0\n",
       "school_holiday                       0\n",
       "store_type                           0\n",
       "assortment                           0\n",
       "competition_distance              2642\n",
       "competition_open_since_month    323348\n",
       "competition_open_since_year     323348\n",
       "promo2                               0\n",
       "promo2_since_week               508031\n",
       "promo2_since_year               508031\n",
       "promo_interval                  508031\n",
       "dtype: int64"
      ]
     },
     "execution_count": 8,
     "metadata": {},
     "output_type": "execute_result"
    }
   ],
   "source": [
    "df1.isna().sum()"
   ]
  },
  {
   "cell_type": "markdown",
   "id": "2665ccc1",
   "metadata": {},
   "source": [
    "## 1.5. Fillout NA"
   ]
  },
  {
   "cell_type": "code",
   "execution_count": 9,
   "id": "919949fe",
   "metadata": {
    "ExecuteTime": {
     "end_time": "2023-03-08T19:31:28.658808Z",
     "start_time": "2023-03-08T19:30:34.353753Z"
    }
   },
   "outputs": [],
   "source": [
    "#competition_distance - Considero que na é igual a não competição. Se eu subsituir na por uma distancia muito grande seria o mesmo que dizer que não existe competição ( o valor máximo df1['competition_distance'] é 75860.0 )\n",
    "df1['competition_distance'] = df1['competition_distance'].apply( lambda x: 200000 if math.isnan( x ) else x )\n",
    "\n",
    "\n",
    "#competition_open_since_month - Considero que quando tiver \"na\" o competidor abriu no mesmo mes da coluna date ( data da venda ) -- para cada linha \"na\" pego o mes da coluna date e substituo na coluna competition_open_since_month\n",
    "df1['competition_open_since_month'] = df1.apply( lambda x: x['date'].month if math.isnan( x['competition_open_since_month'] ) else x['competition_open_since_month'], axis = 1 )\n",
    "\n",
    "#competition_open_since_year - mesma lógica do competition_open_since_month mas aplicado ao ano\n",
    "df1['competition_open_since_year'] = df1.apply( lambda x : x['date'].year if math.isnan( x['competition_open_since_year']                                                 ) else x['competition_open_since_year'], axis = 1)\n",
    "\n",
    "#promo2_since_week - Vou considerar que onde tiver \"na\" a loja não participou da promoção. Então vou substituir o na pela semana da data na coluna date ( data da venda)\n",
    "df1['promo2_since_week'] = df1.apply( lambda x: x['date'].week if math.isnan( x['promo2_since_week'] ) else x['promo2_since_week'] , axis = 1)\n",
    "\n",
    "#promo2_since_year - mesma lógica da promo2_since_week só que substituindo pelo ano\n",
    "df1['promo2_since_year'] = df1.apply( lambda x : x['date'].year if math.isnan( x['promo2_since_year'] ) else x['promo2_since_year'] , axis = 1 )\n",
    "\n",
    "#promo_interval\n",
    "month_map = { 1 : 'Jan', 2 :  'Feb', 3 : 'Mar', 4 : 'Apr', 5 : 'May', 6 : 'Jun', 7 : 'Jul', 8 : 'Aug', 9 : 'Sept', 10 : 'Oct', 11 : 'Nov', 12 : 'Dec'  } # crio um dicionario com os meses de acordo com os valores da coluna promo_interval\n",
    "\n",
    "df1['month_map'] = df1['date'].dt.month.map( month_map ) # substituo o numero do mes pelo nome\n",
    "\n",
    "df1['promo_interval'].fillna( 0 , inplace = True ) # substituo os na por 0\n",
    "\n",
    "df1['is_promo'] = df1[['promo_interval','month_map']].apply(lambda x : 0 if x['promo_interval'] == 0 else 1 if x['month_map'] in x['promo_interval'].split( ',' ) else 0, axis = 1) # para cada linha verifico se o valor da coluna month_map existe na coluna promo_interval, se existir retorno 1 ( participa da promoção ) se não existir 0 ( não participa )\n",
    "\n"
   ]
  },
  {
   "cell_type": "markdown",
   "id": "59fb6054",
   "metadata": {},
   "source": [
    "## 1.6. Change Types"
   ]
  },
  {
   "cell_type": "code",
   "execution_count": 10,
   "id": "d1400f21",
   "metadata": {
    "ExecuteTime": {
     "end_time": "2023-03-08T19:31:28.674013Z",
     "start_time": "2023-03-08T19:31:28.661113Z"
    }
   },
   "outputs": [
    {
     "data": {
      "text/plain": [
       "store                                    int64\n",
       "day_of_week                              int64\n",
       "date                            datetime64[ns]\n",
       "sales                                    int64\n",
       "customers                                int64\n",
       "open                                     int64\n",
       "promo                                    int64\n",
       "state_holiday                           object\n",
       "school_holiday                           int64\n",
       "store_type                              object\n",
       "assortment                              object\n",
       "competition_distance                   float64\n",
       "competition_open_since_month           float64\n",
       "competition_open_since_year            float64\n",
       "promo2                                   int64\n",
       "promo2_since_week                      float64\n",
       "promo2_since_year                      float64\n",
       "promo_interval                          object\n",
       "month_map                               object\n",
       "is_promo                                 int64\n",
       "dtype: object"
      ]
     },
     "execution_count": 10,
     "metadata": {},
     "output_type": "execute_result"
    }
   ],
   "source": [
    "# verifico se durante a etapa de fill na os tipos de dados se mantiveram inalterados\n",
    "df1.dtypes"
   ]
  },
  {
   "cell_type": "code",
   "execution_count": 11,
   "id": "689927b1",
   "metadata": {
    "ExecuteTime": {
     "end_time": "2023-03-08T19:31:28.752374Z",
     "start_time": "2023-03-08T19:31:28.676007Z"
    }
   },
   "outputs": [],
   "source": [
    "# alterando o tipo da coluna competition_open_since_month  de float64 para int\n",
    "df1['competition_open_since_month'] = df1['competition_open_since_month'].astype( 'int64' )\n",
    "\n",
    "# alterando o tipo da coluna competition_open_since_year de float64 para int\n",
    "df1['competition_open_since_year'] = df1['competition_open_since_year'].astype( 'int64' )\n",
    "\n",
    "# alterando o tipo da coluna promo2_since_week de float 64para int\n",
    "df1['promo2_since_week'] = df1['promo2_since_week'].astype( 'int64' )\n",
    "\n",
    "# alterando o tipo da coluna promo2_since_year de float64 para int\n",
    "df1['promo2_since_year'] = df1['promo2_since_year'].astype( 'int64' ) "
   ]
  },
  {
   "cell_type": "code",
   "execution_count": 12,
   "id": "908a581f",
   "metadata": {
    "ExecuteTime": {
     "end_time": "2023-03-08T19:31:28.767779Z",
     "start_time": "2023-03-08T19:31:28.754373Z"
    }
   },
   "outputs": [
    {
     "data": {
      "text/plain": [
       "store                                    int64\n",
       "day_of_week                              int64\n",
       "date                            datetime64[ns]\n",
       "sales                                    int64\n",
       "customers                                int64\n",
       "open                                     int64\n",
       "promo                                    int64\n",
       "state_holiday                           object\n",
       "school_holiday                           int64\n",
       "store_type                              object\n",
       "assortment                              object\n",
       "competition_distance                   float64\n",
       "competition_open_since_month             int64\n",
       "competition_open_since_year              int64\n",
       "promo2                                   int64\n",
       "promo2_since_week                        int64\n",
       "promo2_since_year                        int64\n",
       "promo_interval                          object\n",
       "month_map                               object\n",
       "is_promo                                 int64\n",
       "dtype: object"
      ]
     },
     "execution_count": 12,
     "metadata": {},
     "output_type": "execute_result"
    }
   ],
   "source": [
    "# verifico novamente o tipo de dados\n",
    "df1.dtypes"
   ]
  },
  {
   "cell_type": "markdown",
   "id": "fc54569f",
   "metadata": {},
   "source": [
    "## 1.7. Descriptive Statistical"
   ]
  },
  {
   "cell_type": "code",
   "execution_count": 13,
   "id": "50cbfc8b",
   "metadata": {
    "ExecuteTime": {
     "end_time": "2023-03-08T19:31:28.956054Z",
     "start_time": "2023-03-08T19:31:28.769469Z"
    }
   },
   "outputs": [],
   "source": [
    "# selecionando somente as variáveis numéricas\n",
    "num_attributes = df1.select_dtypes( include = ['int64','float64'] )\n",
    "\n",
    "# selecionando somente as variáveis categóricas\n",
    "cat_attributes = df1.select_dtypes( exclude = ['int64','float64','datetime64[ns]'] )"
   ]
  },
  {
   "cell_type": "markdown",
   "id": "ee8fb73d",
   "metadata": {},
   "source": [
    "## 1.7.1 Numerical Attributes"
   ]
  },
  {
   "cell_type": "code",
   "execution_count": 14,
   "id": "b99be6e8",
   "metadata": {
    "ExecuteTime": {
     "end_time": "2023-03-08T19:31:29.920608Z",
     "start_time": "2023-03-08T19:31:28.957802Z"
    }
   },
   "outputs": [
    {
     "data": {
      "text/html": [
       "<div>\n",
       "<style scoped>\n",
       "    .dataframe tbody tr th:only-of-type {\n",
       "        vertical-align: middle;\n",
       "    }\n",
       "\n",
       "    .dataframe tbody tr th {\n",
       "        vertical-align: top;\n",
       "    }\n",
       "\n",
       "    .dataframe thead th {\n",
       "        text-align: right;\n",
       "    }\n",
       "</style>\n",
       "<table border=\"1\" class=\"dataframe\">\n",
       "  <thead>\n",
       "    <tr style=\"text-align: right;\">\n",
       "      <th></th>\n",
       "      <th>features</th>\n",
       "      <th>min</th>\n",
       "      <th>max</th>\n",
       "      <th>range</th>\n",
       "      <th>mean</th>\n",
       "      <th>median</th>\n",
       "      <th>std</th>\n",
       "      <th>skew</th>\n",
       "      <th>kurtosis</th>\n",
       "    </tr>\n",
       "  </thead>\n",
       "  <tbody>\n",
       "    <tr>\n",
       "      <th>0</th>\n",
       "      <td>store</td>\n",
       "      <td>1.0</td>\n",
       "      <td>1115.0</td>\n",
       "      <td>1114.0</td>\n",
       "      <td>558.429727</td>\n",
       "      <td>558.0</td>\n",
       "      <td>321.908493</td>\n",
       "      <td>-0.000955</td>\n",
       "      <td>-1.200524</td>\n",
       "    </tr>\n",
       "    <tr>\n",
       "      <th>1</th>\n",
       "      <td>day_of_week</td>\n",
       "      <td>1.0</td>\n",
       "      <td>7.0</td>\n",
       "      <td>6.0</td>\n",
       "      <td>3.998341</td>\n",
       "      <td>4.0</td>\n",
       "      <td>1.997390</td>\n",
       "      <td>0.001593</td>\n",
       "      <td>-1.246873</td>\n",
       "    </tr>\n",
       "    <tr>\n",
       "      <th>2</th>\n",
       "      <td>sales</td>\n",
       "      <td>0.0</td>\n",
       "      <td>41551.0</td>\n",
       "      <td>41551.0</td>\n",
       "      <td>5773.818972</td>\n",
       "      <td>5744.0</td>\n",
       "      <td>3849.924283</td>\n",
       "      <td>0.641460</td>\n",
       "      <td>1.778375</td>\n",
       "    </tr>\n",
       "    <tr>\n",
       "      <th>3</th>\n",
       "      <td>customers</td>\n",
       "      <td>0.0</td>\n",
       "      <td>7388.0</td>\n",
       "      <td>7388.0</td>\n",
       "      <td>633.145946</td>\n",
       "      <td>609.0</td>\n",
       "      <td>464.411506</td>\n",
       "      <td>1.598650</td>\n",
       "      <td>7.091773</td>\n",
       "    </tr>\n",
       "    <tr>\n",
       "      <th>4</th>\n",
       "      <td>open</td>\n",
       "      <td>0.0</td>\n",
       "      <td>1.0</td>\n",
       "      <td>1.0</td>\n",
       "      <td>0.830107</td>\n",
       "      <td>1.0</td>\n",
       "      <td>0.375539</td>\n",
       "      <td>-1.758045</td>\n",
       "      <td>1.090723</td>\n",
       "    </tr>\n",
       "    <tr>\n",
       "      <th>5</th>\n",
       "      <td>promo</td>\n",
       "      <td>0.0</td>\n",
       "      <td>1.0</td>\n",
       "      <td>1.0</td>\n",
       "      <td>0.381515</td>\n",
       "      <td>0.0</td>\n",
       "      <td>0.485758</td>\n",
       "      <td>0.487838</td>\n",
       "      <td>-1.762018</td>\n",
       "    </tr>\n",
       "    <tr>\n",
       "      <th>6</th>\n",
       "      <td>school_holiday</td>\n",
       "      <td>0.0</td>\n",
       "      <td>1.0</td>\n",
       "      <td>1.0</td>\n",
       "      <td>0.178647</td>\n",
       "      <td>0.0</td>\n",
       "      <td>0.383056</td>\n",
       "      <td>1.677842</td>\n",
       "      <td>0.815154</td>\n",
       "    </tr>\n",
       "    <tr>\n",
       "      <th>7</th>\n",
       "      <td>competition_distance</td>\n",
       "      <td>20.0</td>\n",
       "      <td>200000.0</td>\n",
       "      <td>199980.0</td>\n",
       "      <td>5935.442677</td>\n",
       "      <td>2330.0</td>\n",
       "      <td>12547.646829</td>\n",
       "      <td>10.242344</td>\n",
       "      <td>147.789712</td>\n",
       "    </tr>\n",
       "    <tr>\n",
       "      <th>8</th>\n",
       "      <td>competition_open_since_month</td>\n",
       "      <td>1.0</td>\n",
       "      <td>12.0</td>\n",
       "      <td>11.0</td>\n",
       "      <td>6.786849</td>\n",
       "      <td>7.0</td>\n",
       "      <td>3.311085</td>\n",
       "      <td>-0.042076</td>\n",
       "      <td>-1.232607</td>\n",
       "    </tr>\n",
       "    <tr>\n",
       "      <th>9</th>\n",
       "      <td>competition_open_since_year</td>\n",
       "      <td>1900.0</td>\n",
       "      <td>2015.0</td>\n",
       "      <td>115.0</td>\n",
       "      <td>2010.324840</td>\n",
       "      <td>2012.0</td>\n",
       "      <td>5.515591</td>\n",
       "      <td>-7.235657</td>\n",
       "      <td>124.071304</td>\n",
       "    </tr>\n",
       "    <tr>\n",
       "      <th>10</th>\n",
       "      <td>promo2</td>\n",
       "      <td>0.0</td>\n",
       "      <td>1.0</td>\n",
       "      <td>1.0</td>\n",
       "      <td>0.500564</td>\n",
       "      <td>1.0</td>\n",
       "      <td>0.500000</td>\n",
       "      <td>-0.002255</td>\n",
       "      <td>-1.999999</td>\n",
       "    </tr>\n",
       "    <tr>\n",
       "      <th>11</th>\n",
       "      <td>promo2_since_week</td>\n",
       "      <td>1.0</td>\n",
       "      <td>52.0</td>\n",
       "      <td>51.0</td>\n",
       "      <td>23.619033</td>\n",
       "      <td>22.0</td>\n",
       "      <td>14.310057</td>\n",
       "      <td>0.178723</td>\n",
       "      <td>-1.184046</td>\n",
       "    </tr>\n",
       "    <tr>\n",
       "      <th>12</th>\n",
       "      <td>promo2_since_year</td>\n",
       "      <td>2009.0</td>\n",
       "      <td>2015.0</td>\n",
       "      <td>6.0</td>\n",
       "      <td>2012.793297</td>\n",
       "      <td>2013.0</td>\n",
       "      <td>1.662657</td>\n",
       "      <td>-0.784436</td>\n",
       "      <td>-0.210075</td>\n",
       "    </tr>\n",
       "    <tr>\n",
       "      <th>13</th>\n",
       "      <td>is_promo</td>\n",
       "      <td>0.0</td>\n",
       "      <td>1.0</td>\n",
       "      <td>1.0</td>\n",
       "      <td>0.171835</td>\n",
       "      <td>0.0</td>\n",
       "      <td>0.377237</td>\n",
       "      <td>1.739838</td>\n",
       "      <td>1.027039</td>\n",
       "    </tr>\n",
       "  </tbody>\n",
       "</table>\n",
       "</div>"
      ],
      "text/plain": [
       "                        features     min       max     range         mean  \\\n",
       "0                          store     1.0    1115.0    1114.0   558.429727   \n",
       "1                    day_of_week     1.0       7.0       6.0     3.998341   \n",
       "2                          sales     0.0   41551.0   41551.0  5773.818972   \n",
       "3                      customers     0.0    7388.0    7388.0   633.145946   \n",
       "4                           open     0.0       1.0       1.0     0.830107   \n",
       "5                          promo     0.0       1.0       1.0     0.381515   \n",
       "6                 school_holiday     0.0       1.0       1.0     0.178647   \n",
       "7           competition_distance    20.0  200000.0  199980.0  5935.442677   \n",
       "8   competition_open_since_month     1.0      12.0      11.0     6.786849   \n",
       "9    competition_open_since_year  1900.0    2015.0     115.0  2010.324840   \n",
       "10                        promo2     0.0       1.0       1.0     0.500564   \n",
       "11             promo2_since_week     1.0      52.0      51.0    23.619033   \n",
       "12             promo2_since_year  2009.0    2015.0       6.0  2012.793297   \n",
       "13                      is_promo     0.0       1.0       1.0     0.171835   \n",
       "\n",
       "    median           std       skew    kurtosis  \n",
       "0    558.0    321.908493  -0.000955   -1.200524  \n",
       "1      4.0      1.997390   0.001593   -1.246873  \n",
       "2   5744.0   3849.924283   0.641460    1.778375  \n",
       "3    609.0    464.411506   1.598650    7.091773  \n",
       "4      1.0      0.375539  -1.758045    1.090723  \n",
       "5      0.0      0.485758   0.487838   -1.762018  \n",
       "6      0.0      0.383056   1.677842    0.815154  \n",
       "7   2330.0  12547.646829  10.242344  147.789712  \n",
       "8      7.0      3.311085  -0.042076   -1.232607  \n",
       "9   2012.0      5.515591  -7.235657  124.071304  \n",
       "10     1.0      0.500000  -0.002255   -1.999999  \n",
       "11    22.0     14.310057   0.178723   -1.184046  \n",
       "12  2013.0      1.662657  -0.784436   -0.210075  \n",
       "13     0.0      0.377237   1.739838    1.027039  "
      ]
     },
     "execution_count": 14,
     "metadata": {},
     "output_type": "execute_result"
    }
   ],
   "source": [
    "# Central tendency - mean, median\n",
    "ct1 = pd.DataFrame( num_attributes.apply( np.mean ) ).T # calculado a media das colunas -- aplica em todas colunas\n",
    "ct2 = pd.DataFrame( num_attributes.apply( np.median) ).T # calculando a mediana\n",
    "\n",
    "# Dispersion - std, min, max, range, skew, kurtosis\n",
    "d1 = pd.DataFrame( num_attributes.apply( np.std ) ).T # calculando o std \n",
    "d2 = pd.DataFrame( num_attributes.apply( np.min ) ).T # calculando o min\n",
    "d3 = pd.DataFrame( num_attributes.apply( np.max ) ).T # calculando o max\n",
    "d4 = pd.DataFrame( num_attributes.apply( lambda x: x.max() - x.min()  ) ).T # calcula o range\n",
    "d5 = pd.DataFrame( num_attributes.apply( lambda x: x.skew() ) ).T # calcula o skew\n",
    "d6 = pd.DataFrame( num_attributes.apply( lambda x: x.kurtosis() ) ).T # calcula o kurtosis\n",
    "\n",
    "# concatenate\n",
    "m = pd.concat( [d2,d3,d4,ct1,ct2,d1,d5,d6] ).T.reset_index()\n",
    "m.columns = ['features','min','max','range','mean','median','std','skew','kurtosis'] \n",
    "m"
   ]
  },
  {
   "cell_type": "markdown",
   "id": "b5823a9c",
   "metadata": {
    "ExecuteTime": {
     "end_time": "2023-03-01T19:30:16.432592Z",
     "start_time": "2023-03-01T19:30:14.832825Z"
    }
   },
   "source": [
    "## 1.7.2 Categorical Attributes"
   ]
  },
  {
   "cell_type": "code",
   "execution_count": 15,
   "id": "6fef23f1",
   "metadata": {
    "ExecuteTime": {
     "end_time": "2023-03-08T19:31:30.278067Z",
     "start_time": "2023-03-08T19:31:29.922564Z"
    }
   },
   "outputs": [
    {
     "name": "stdout",
     "output_type": "stream",
     "text": [
      "state_holiday      4\n",
      "store_type         4\n",
      "assortment         3\n",
      "promo_interval     4\n",
      "month_map         12\n",
      "dtype: int64\n",
      "state_holiday                                          [0, a, b, c]\n",
      "store_type                                             [c, a, d, b]\n",
      "assortment                                                [a, c, b]\n",
      "promo_interval    [0, Jan,Apr,Jul,Oct, Feb,May,Aug,Nov, Mar,Jun,...\n",
      "month_map         [Jul, Jun, May, Apr, Mar, Feb, Jan, Dec, Nov, ...\n",
      "dtype: object\n"
     ]
    }
   ],
   "source": [
    "# verifico quantos valores unicos tenho nos atributos categoricos\n",
    "print( cat_attributes.apply( lambda x: x.unique().shape[0] ) )\n",
    "\n",
    "# verifico os valores unicos tenho nos atributos categoricos\n",
    "print( cat_attributes.apply( lambda x: x.unique() ) )"
   ]
  },
  {
   "cell_type": "code",
   "execution_count": 16,
   "id": "377c554a",
   "metadata": {
    "ExecuteTime": {
     "end_time": "2023-03-08T19:31:31.139008Z",
     "start_time": "2023-03-08T19:31:30.280065Z"
    }
   },
   "outputs": [
    {
     "data": {
      "image/png": "[encoded data removed]",
      "text/plain": [
       "<Figure size 1500x1000 with 3 Axes>"
      ]
     },
     "metadata": {},
     "output_type": "display_data"
    }
   ],
   "source": [
    "# filtro o df1 para plotar o grafico\n",
    "aux1 = df1.loc[ (df1['state_holiday'] != '0') & (df1['sales'] > 0), : ]\n",
    "\n",
    "# defino o tamanho dos graficos\n",
    "plt.figure( figsize = ( 15,10 ) )\n",
    "\n",
    "# plotando o grafico boxplot para entender a dispersao das variaveis categoricas em relacao as vendas \n",
    "plt.subplot( 1 ,3 , 1 )\n",
    "sns.boxplot( x = 'state_holiday', y = 'sales', data = aux1 )\n",
    "plt.yticks(range(0 , aux1['sales'].max(), 2500))\n",
    "\n",
    "plt.subplot( 1, 3 , 2 )\n",
    "sns.boxplot( x = 'store_type', y = 'sales', data = aux1 )\n",
    "plt.yticks(range(0 , aux1['sales'].max(), 2500))\n",
    "\n",
    "plt.subplot( 1, 3 , 3 )\n",
    "sns.boxplot( x = 'assortment', y = 'sales', data = aux1 )\n",
    "plt.yticks(range(0 , aux1['sales'].max(), 2500));"
   ]
  },
  {
   "cell_type": "markdown",
   "id": "4e17ab3e",
   "metadata": {},
   "source": [
    "# 2.0. PASSO 2 - FEATURE ENGINEERING"
   ]
  },
  {
   "cell_type": "code",
   "execution_count": 17,
   "id": "edcb55ed",
   "metadata": {
    "ExecuteTime": {
     "end_time": "2023-03-08T19:31:31.217883Z",
     "start_time": "2023-03-08T19:31:31.141964Z"
    }
   },
   "outputs": [],
   "source": [
    "df2 = df1.copy()"
   ]
  },
  {
   "cell_type": "code",
   "execution_count": 18,
   "id": "c0ccc353",
   "metadata": {
    "ExecuteTime": {
     "end_time": "2023-03-08T19:31:31.296789Z",
     "start_time": "2023-03-08T19:31:31.221601Z"
    }
   },
   "outputs": [
    {
     "data": {
      "image/jpeg": "[encoded data removed]",
      "text/plain": [
       "<IPython.core.display.Image object>"
      ]
     },
     "execution_count": 18,
     "metadata": {},
     "output_type": "execute_result"
    }
   ],
   "source": [
    "Image( r'img/img_hypothesis.jpg' )"
   ]
  },
  {
   "cell_type": "markdown",
   "id": "30f6b0be",
   "metadata": {},
   "source": [
    "## 2.1.1. Hipóteses Loja"
   ]
  },
  {
   "cell_type": "markdown",
   "id": "b18f6ed4",
   "metadata": {},
   "source": [
    "**1.** Lojas com número maior de funcionários deveriam vender mais.\n",
    "\n",
    "**2.** Lojas com maior capacidade de estoque deveriam vender mais.\n",
    "\n",
    "**3.** Lojas com maior porte deveriam vender mais.\n",
    "\n",
    "**4.** Lojas com maior sortimentos deveriam vender mais.\n",
    "\n",
    "**5.** Lojas com competidores mais próximos deveriam vender menos.\n",
    "\n",
    "**6.** Lojas com competidores à mais tempo deveriam vendem mais."
   ]
  },
  {
   "cell_type": "markdown",
   "id": "12b14ceb",
   "metadata": {},
   "source": [
    "## 2.1.2. Hipóteses Produto"
   ]
  },
  {
   "cell_type": "markdown",
   "id": "1e5a4d7c",
   "metadata": {
    "ExecuteTime": {
     "end_time": "2023-03-06T19:50:26.807593Z",
     "start_time": "2023-03-06T19:50:26.764656Z"
    }
   },
   "source": [
    "**1**. Lojas que investem mais em Marketing deveriam vender mais.\n",
    "\n",
    "**2**. Lojas com maior exposição de produto deveriam vender mais.\n",
    "\n",
    "**3**. Lojas com produtos com preço menor deveriam vender mais.\n",
    "\n",
    "**5**. Lojas com promoções mais agressivas ( descontos maiores ), deveriam vender mais.\n",
    "\n",
    "**6**. Lojas com promoções ativas por mais tempo deveriam vender mais.\n",
    "\n",
    "**7**. Lojas com mais dias de promoção deveriam vender mais.\n",
    "\n",
    "**8**. Lojas com mais promoções consecutivas deveriam vender mais."
   ]
  },
  {
   "cell_type": "markdown",
   "id": "a91006bd",
   "metadata": {},
   "source": [
    "## 2.1.3 Hipóteses Tempo"
   ]
  },
  {
   "cell_type": "markdown",
   "id": "2bc582f3",
   "metadata": {},
   "source": [
    "**1.** Lojas abertas durante o feriado de Natal deveriam vender mais.\n",
    "\n",
    "**2.** Lojas deveriam vender mais ao longo dos anos.\n",
    "\n",
    "**3.** Lojas deveriam vender mais no segundo semestre do ano.\n",
    "\n",
    "**4.** Lojas deveriam vender mais depois do dia 10 de cada mês.\n",
    "\n",
    "**5.** Lojas deveriam vender menos aos finais de semana.\n",
    "\n",
    "**6.** Lojas deveriam vender menos durante os feriados escolares.\n"
   ]
  },
  {
   "cell_type": "markdown",
   "id": "8fe4b2d7",
   "metadata": {},
   "source": [
    "## 2.2. Lista Final de Hipóteses"
   ]
  },
  {
   "cell_type": "markdown",
   "id": "b76afd2d",
   "metadata": {
    "ExecuteTime": {
     "end_time": "2023-03-06T20:03:08.762653Z",
     "start_time": "2023-03-06T20:03:08.739921Z"
    }
   },
   "source": [
    "**1.** Lojas com maior sortimentos deveriam vender mais.\n",
    "\n",
    "**2.** Lojas com competidores mais próximos deveriam vender menos.\n",
    "\n",
    "**3.** Lojas com competidores à mais tempo deveriam vendem mais.\n",
    "\n",
    "**4.** Lojas com promoções ativas por mais tempo deveriam vender mais.\n",
    "\n",
    "**5.** Lojas com mais dias de promoção deveriam vender mais.\n",
    "\n",
    "**7.** Lojas com mais promoções consecutivas deveriam vender mais.\n",
    "\n",
    "**8.** Lojas abertas durante o feriado de Natal deveriam vender mais.\n",
    "\n",
    "**9.**  deveriam vender mais ao longo dos anos.\n",
    "\n",
    "**10.** Lojas deveriam vender mais no segundo semestre do ano.\n",
    "\n",
    "**11.** Lojas deveriam vender mais depois do dia 10 de cada mês.\n",
    "\n",
    "**12.** Lojas deveriam vender menos aos finais de semana.\n",
    "\n",
    "**13.** Lojas deveriam vender menos durante os feriados escolares."
   ]
  },
  {
   "cell_type": "markdown",
   "id": "98eeb101",
   "metadata": {},
   "source": [
    "## 2.3. - Feauture Engineering"
   ]
  },
  {
   "cell_type": "code",
   "execution_count": 19,
   "id": "0f9d6be5",
   "metadata": {
    "ExecuteTime": {
     "end_time": "2023-03-08T19:32:06.754501Z",
     "start_time": "2023-03-08T19:31:31.298970Z"
    }
   },
   "outputs": [],
   "source": [
    "# features temporais\n",
    "\n",
    "# year\n",
    "df2['year'] = df2['date'].dt.year\n",
    "\n",
    "# month\n",
    "df2['month'] = df2['date'].dt.month\n",
    "\n",
    "# day\n",
    "df2['day'] = df2['date'].dt.day\n",
    "\n",
    "# week of year\n",
    "df2['week_of_year'] = df2['date'].dt.isocalendar().week\n",
    "\n",
    "# year week\n",
    "df2['year_week'] = df2['date'].dt.strftime( '%Y-m' )\n",
    "\n",
    "#=======================================================================================================================#\n",
    "\n",
    "# competition since - nova coluna que leva em consideração o ano e o mes da competição\n",
    "df2['competition_since'] = df2.apply( lambda x: datetime( year = x['competition_open_since_year'], month = x['competition_open_since_month'], day = 1 ) , axis= 1) \n",
    "\n",
    "# competition time month - Tempo de competição em meses\n",
    "df2['competition_time_month'] = ( (df2['date'] - df2['competition_since']) / 30 ).apply( lambda x: x.days ).astype( 'int64' )\n",
    "\n",
    "# promo since - Desde quando a promoção ativa\n",
    "df2['promo_since'] = df2['promo2_since_year'].astype( str ) + '-' + df2['promo2_since_week'].astype( str )\n",
    "df2['promo_since'] = df2['promo_since'].apply( lambda x : datetime.strptime( x + '-1', '%Y-%W-%w' ) - timedelta(  days = 7 ) )\n",
    "df2['promo_time_week'] = ((df2['date'] - df2['promo_since']) / 7).apply( lambda x: x.days ).astype( 'int64' )\n",
    "\n",
    "\n",
    "\n",
    "# assortment\n",
    "df2['assortment'] = df2['assortment'].apply(lambda x : 'basic' if x == 'a' else 'extra' if x == 'b' else 'extended')\n",
    "\n",
    "# state holiday\n",
    "df2['state_holiday'] = df2['state_holiday'].apply(lambda x : 'public_holiday' if x == 'a' else 'easter_holiday' if x == 'b' else 'christmas' if x == 'c' else 'regular_day')\n",
    "\n",
    "\n"
   ]
  },
  {
   "cell_type": "markdown",
   "id": "6a507f5a",
   "metadata": {},
   "source": [
    "# 3.0. PASSO 3 - FILTRAGEM DE VARIÁVEIS"
   ]
  },
  {
   "cell_type": "code",
   "execution_count": 23,
   "id": "0036d133",
   "metadata": {
    "ExecuteTime": {
     "end_time": "2023-03-08T20:09:08.694892Z",
     "start_time": "2023-03-08T20:09:08.353745Z"
    }
   },
   "outputs": [],
   "source": [
    "df3 = df2.copy()"
   ]
  },
  {
   "cell_type": "code",
   "execution_count": 24,
   "id": "e5a157be",
   "metadata": {
    "ExecuteTime": {
     "end_time": "2023-03-08T20:09:12.378729Z",
     "start_time": "2023-03-08T20:09:12.354310Z"
    }
   },
   "outputs": [
    {
     "data": {
      "text/html": [
       "<div>\n",
       "<style scoped>\n",
       "    .dataframe tbody tr th:only-of-type {\n",
       "        vertical-align: middle;\n",
       "    }\n",
       "\n",
       "    .dataframe tbody tr th {\n",
       "        vertical-align: top;\n",
       "    }\n",
       "\n",
       "    .dataframe thead th {\n",
       "        text-align: right;\n",
       "    }\n",
       "</style>\n",
       "<table border=\"1\" class=\"dataframe\">\n",
       "  <thead>\n",
       "    <tr style=\"text-align: right;\">\n",
       "      <th></th>\n",
       "      <th>store</th>\n",
       "      <th>day_of_week</th>\n",
       "      <th>date</th>\n",
       "      <th>sales</th>\n",
       "      <th>customers</th>\n",
       "      <th>open</th>\n",
       "      <th>promo</th>\n",
       "      <th>state_holiday</th>\n",
       "      <th>school_holiday</th>\n",
       "      <th>store_type</th>\n",
       "      <th>...</th>\n",
       "      <th>is_promo</th>\n",
       "      <th>year</th>\n",
       "      <th>month</th>\n",
       "      <th>day</th>\n",
       "      <th>week_of_year</th>\n",
       "      <th>year_week</th>\n",
       "      <th>competition_since</th>\n",
       "      <th>competition_time_month</th>\n",
       "      <th>promo_since</th>\n",
       "      <th>promo_time_week</th>\n",
       "    </tr>\n",
       "  </thead>\n",
       "  <tbody>\n",
       "    <tr>\n",
       "      <th>0</th>\n",
       "      <td>1</td>\n",
       "      <td>5</td>\n",
       "      <td>2015-07-31</td>\n",
       "      <td>5263</td>\n",
       "      <td>555</td>\n",
       "      <td>1</td>\n",
       "      <td>1</td>\n",
       "      <td>regular_day</td>\n",
       "      <td>1</td>\n",
       "      <td>c</td>\n",
       "      <td>...</td>\n",
       "      <td>0</td>\n",
       "      <td>2015</td>\n",
       "      <td>7</td>\n",
       "      <td>31</td>\n",
       "      <td>31</td>\n",
       "      <td>2015-m</td>\n",
       "      <td>2008-09-01</td>\n",
       "      <td>84</td>\n",
       "      <td>2015-07-27</td>\n",
       "      <td>0</td>\n",
       "    </tr>\n",
       "    <tr>\n",
       "      <th>1</th>\n",
       "      <td>2</td>\n",
       "      <td>5</td>\n",
       "      <td>2015-07-31</td>\n",
       "      <td>6064</td>\n",
       "      <td>625</td>\n",
       "      <td>1</td>\n",
       "      <td>1</td>\n",
       "      <td>regular_day</td>\n",
       "      <td>1</td>\n",
       "      <td>a</td>\n",
       "      <td>...</td>\n",
       "      <td>1</td>\n",
       "      <td>2015</td>\n",
       "      <td>7</td>\n",
       "      <td>31</td>\n",
       "      <td>31</td>\n",
       "      <td>2015-m</td>\n",
       "      <td>2007-11-01</td>\n",
       "      <td>94</td>\n",
       "      <td>2010-03-22</td>\n",
       "      <td>279</td>\n",
       "    </tr>\n",
       "    <tr>\n",
       "      <th>2</th>\n",
       "      <td>3</td>\n",
       "      <td>5</td>\n",
       "      <td>2015-07-31</td>\n",
       "      <td>8314</td>\n",
       "      <td>821</td>\n",
       "      <td>1</td>\n",
       "      <td>1</td>\n",
       "      <td>regular_day</td>\n",
       "      <td>1</td>\n",
       "      <td>a</td>\n",
       "      <td>...</td>\n",
       "      <td>1</td>\n",
       "      <td>2015</td>\n",
       "      <td>7</td>\n",
       "      <td>31</td>\n",
       "      <td>31</td>\n",
       "      <td>2015-m</td>\n",
       "      <td>2006-12-01</td>\n",
       "      <td>105</td>\n",
       "      <td>2011-03-28</td>\n",
       "      <td>226</td>\n",
       "    </tr>\n",
       "    <tr>\n",
       "      <th>3</th>\n",
       "      <td>4</td>\n",
       "      <td>5</td>\n",
       "      <td>2015-07-31</td>\n",
       "      <td>13995</td>\n",
       "      <td>1498</td>\n",
       "      <td>1</td>\n",
       "      <td>1</td>\n",
       "      <td>regular_day</td>\n",
       "      <td>1</td>\n",
       "      <td>c</td>\n",
       "      <td>...</td>\n",
       "      <td>0</td>\n",
       "      <td>2015</td>\n",
       "      <td>7</td>\n",
       "      <td>31</td>\n",
       "      <td>31</td>\n",
       "      <td>2015-m</td>\n",
       "      <td>2009-09-01</td>\n",
       "      <td>71</td>\n",
       "      <td>2015-07-27</td>\n",
       "      <td>0</td>\n",
       "    </tr>\n",
       "    <tr>\n",
       "      <th>4</th>\n",
       "      <td>5</td>\n",
       "      <td>5</td>\n",
       "      <td>2015-07-31</td>\n",
       "      <td>4822</td>\n",
       "      <td>559</td>\n",
       "      <td>1</td>\n",
       "      <td>1</td>\n",
       "      <td>regular_day</td>\n",
       "      <td>1</td>\n",
       "      <td>a</td>\n",
       "      <td>...</td>\n",
       "      <td>0</td>\n",
       "      <td>2015</td>\n",
       "      <td>7</td>\n",
       "      <td>31</td>\n",
       "      <td>31</td>\n",
       "      <td>2015-m</td>\n",
       "      <td>2015-04-01</td>\n",
       "      <td>4</td>\n",
       "      <td>2015-07-27</td>\n",
       "      <td>0</td>\n",
       "    </tr>\n",
       "  </tbody>\n",
       "</table>\n",
       "<p>5 rows × 29 columns</p>\n",
       "</div>"
      ],
      "text/plain": [
       "   store  day_of_week       date  sales  customers  open  promo state_holiday  \\\n",
       "0      1            5 2015-07-31   5263        555     1      1   regular_day   \n",
       "1      2            5 2015-07-31   6064        625     1      1   regular_day   \n",
       "2      3            5 2015-07-31   8314        821     1      1   regular_day   \n",
       "3      4            5 2015-07-31  13995       1498     1      1   regular_day   \n",
       "4      5            5 2015-07-31   4822        559     1      1   regular_day   \n",
       "\n",
       "   school_holiday store_type  ... is_promo  year  month  day  week_of_year  \\\n",
       "0               1          c  ...        0  2015      7   31            31   \n",
       "1               1          a  ...        1  2015      7   31            31   \n",
       "2               1          a  ...        1  2015      7   31            31   \n",
       "3               1          c  ...        0  2015      7   31            31   \n",
       "4               1          a  ...        0  2015      7   31            31   \n",
       "\n",
       "   year_week  competition_since competition_time_month promo_since  \\\n",
       "0     2015-m         2008-09-01                     84  2015-07-27   \n",
       "1     2015-m         2007-11-01                     94  2010-03-22   \n",
       "2     2015-m         2006-12-01                    105  2011-03-28   \n",
       "3     2015-m         2009-09-01                     71  2015-07-27   \n",
       "4     2015-m         2015-04-01                      4  2015-07-27   \n",
       "\n",
       "   promo_time_week  \n",
       "0                0  \n",
       "1              279  \n",
       "2              226  \n",
       "3                0  \n",
       "4                0  \n",
       "\n",
       "[5 rows x 29 columns]"
      ]
     },
     "execution_count": 24,
     "metadata": {},
     "output_type": "execute_result"
    }
   ],
   "source": [
    "df3.head()"
   ]
  },
  {
   "cell_type": "markdown",
   "id": "53a09b26",
   "metadata": {},
   "source": [
    "## 3.1. - Filtragem de Linhas\n",
    "\n"
   ]
  },
  {
   "cell_type": "code",
   "execution_count": 26,
   "id": "c6df1cd8",
   "metadata": {
    "ExecuteTime": {
     "end_time": "2023-03-08T20:11:07.419676Z",
     "start_time": "2023-03-08T20:11:07.250671Z"
    }
   },
   "outputs": [],
   "source": [
    "# filtros as variáveis que não terei no momento da predição\n",
    "df3 = df3.loc[ ( df3['open'] != 0 ) & ( df3['sales'] > 0 ), : ]"
   ]
  },
  {
   "cell_type": "markdown",
   "id": "090d4adf",
   "metadata": {
    "ExecuteTime": {
     "end_time": "2023-03-08T20:11:44.952192Z",
     "start_time": "2023-03-08T20:11:44.938313Z"
    }
   },
   "source": [
    "## 3.2. - Filtragem de Colunas"
   ]
  },
  {
   "cell_type": "code",
   "execution_count": 31,
   "id": "4d0d25dd",
   "metadata": {
    "ExecuteTime": {
     "end_time": "2023-03-08T20:13:58.982247Z",
     "start_time": "2023-03-08T20:13:58.866469Z"
    }
   },
   "outputs": [],
   "source": [
    "# filtragem de colunas - as colunas que não vou passar no momento da predição. Neste caso customers\n",
    "cols_drop = [ 'customers', 'open', 'promo_interval', 'month_map' ]\n",
    "\n",
    "df3 = df3.drop( cols_drop, axis = 1  )"
   ]
  }
 ],
 "metadata": {
  "kernelspec": {
   "display_name": "rossmann",
   "language": "python",
   "name": "rossmann"
  },
  "language_info": {
   "codemirror_mode": {
    "name": "ipython",
    "version": 3
   },
   "file_extension": ".py",
   "mimetype": "text/x-python",
   "name": "python",
   "nbconvert_exporter": "python",
   "pygments_lexer": "ipython3",
   "version": "3.9.16"
  }
 },
 "nbformat": 4,
 "nbformat_minor": 5
}
