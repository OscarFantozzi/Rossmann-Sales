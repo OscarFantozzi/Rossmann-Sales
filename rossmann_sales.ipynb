{
 "cells": [
  {
   "cell_type": "markdown",
   "id": "1f4cc20d",
   "metadata": {},
   "source": [
    "# 0.0. IMPORTS"
   ]
  },
  {
   "cell_type": "code",
   "execution_count": 31,
   "id": "d65a9634",
   "metadata": {
    "ExecuteTime": {
     "end_time": "2023-03-01T19:56:28.226312Z",
     "start_time": "2023-03-01T19:56:28.208317Z"
    }
   },
   "outputs": [],
   "source": [
    "import pandas as pd\n",
    "import inflection\n",
    "import math\n",
    "import numpy as np\n",
    "import seaborn as sns\n",
    "from matplotlib import pyplot as plt\n",
    "\n"
   ]
  },
  {
   "cell_type": "markdown",
   "id": "0ab8b1d7",
   "metadata": {},
   "source": [
    "## 0.1.0 Helper Functions"
   ]
  },
  {
   "cell_type": "markdown",
   "id": "db019c5c",
   "metadata": {},
   "source": [
    "## 0.2.0. Loading Data"
   ]
  },
  {
   "cell_type": "code",
   "execution_count": 2,
   "id": "6570a8cc",
   "metadata": {
    "ExecuteTime": {
     "end_time": "2023-03-01T19:26:36.796184Z",
     "start_time": "2023-03-01T19:26:35.680727Z"
    }
   },
   "outputs": [],
   "source": [
    "# arquivo com as vendas das lojas\n",
    "df_sales_raw = pd.read_csv( 'data/train.csv', low_memory = False )\n",
    "\n",
    "# arquivo com as caracteristicas das lojas\n",
    "df_store_raw = pd.read_csv( 'data/store.csv', low_memory = False )\n",
    "\n",
    "# merge com base na chave comum \"Store\"\n",
    "df_raw = pd.merge( df_sales_raw, df_store_raw, how = 'left', on = 'Store' )"
   ]
  },
  {
   "cell_type": "markdown",
   "id": "89882ec2",
   "metadata": {},
   "source": [
    "# 1.0. DESCRIÇÃO DOS DADOS"
   ]
  },
  {
   "cell_type": "code",
   "execution_count": 3,
   "id": "a3e29215",
   "metadata": {
    "ExecuteTime": {
     "end_time": "2023-03-01T19:26:38.153687Z",
     "start_time": "2023-03-01T19:26:37.984887Z"
    }
   },
   "outputs": [],
   "source": [
    "df1 = df_raw.copy()"
   ]
  },
  {
   "cell_type": "markdown",
   "id": "2ee7be6b",
   "metadata": {
    "heading_collapsed": true
   },
   "source": [
    "## Explicação das colunas\n",
    "\n",
    "* store - ID único para cada loja\n",
    "\n",
    "\n",
    "* day_of_week - dia da semana em números inteiros\n",
    "\n",
    "\n",
    "* date - data que foi feita a venda\n",
    "\n",
    "\n",
    "* sales - valor das vendas em determinado dia\n",
    "\n",
    "\n",
    "* customers - número de clientes em determinado dia\n",
    "\n",
    "\n",
    "* open - indicador se a loja estava aberta e fechada 0 = closed, 1 = open\n",
    "\n",
    "\n",
    "* promo - Indica se a loja estava com promoção naquele dia\n",
    "\n",
    "\n",
    "* state_holiday - indicates a state holiday. Normally all stores, with few exceptions, are closed on state holidays. Note that all schools are closed on public holidays and weekends. a = public holiday, b = Easter holiday, c = Christmas, 0 = None\n",
    "\n",
    "\n",
    "* school_holiday - indicates if the (Store, Date) was affected by the closure of public schools\n",
    "\n",
    "\n",
    "\n",
    "* store_type - differentiates between 4 different store models: a, b, c, d\n",
    "\n",
    "\n",
    "* assortment - describes an assortment level: a = basic, b = extra, c = extended\n",
    "\n",
    "\n",
    "* competition_distance - distance in meters to the nearest competitor store\n",
    "\n",
    "\n",
    "* competition_open_since_month - gives the approximate month of the time the nearest competitor was opened\n",
    "\n",
    "\n",
    "* competition_open_since_year - gives the approximate year of the time the nearest competitor was opened\n",
    "\n",
    "\n",
    "* promo2 - Promo2 is a continuing and consecutive promotion for some stores: 0 = store is not participating, 1 = store is participating\n",
    "\n",
    "\n",
    "\n",
    "* promo2_since_week - describes the week when the store started participating in Promo2\n",
    "\n",
    "\n",
    "* promo2_since_year - describes the year when the store started participating in Promo2\n",
    "\n",
    "\n",
    "* promo_interval - describes the consecutive intervals Promo2 is started, naming the months the promotion is started anew. E.g. \"Feb,May,Aug,Nov\" means each round starts in February, May, August, November of any given year for that store\n",
    "\n"
   ]
  },
  {
   "cell_type": "markdown",
   "id": "a85083b8",
   "metadata": {},
   "source": [
    "## 1.1. Rename Columns"
   ]
  },
  {
   "cell_type": "code",
   "execution_count": 4,
   "id": "987a12d8",
   "metadata": {
    "ExecuteTime": {
     "end_time": "2023-03-01T19:26:42.231056Z",
     "start_time": "2023-03-01T19:26:42.217093Z"
    }
   },
   "outputs": [],
   "source": [
    "# crio uma lista com o nome das colunas antigos\n",
    "cols_old = ['Store', 'DayOfWeek', 'Date', 'Sales', 'Customers', 'Open', 'Promo',\n",
    "           'StateHoliday', 'SchoolHoliday', 'StoreType', 'Assortment',\n",
    "           'CompetitionDistance', 'CompetitionOpenSinceMonth',\n",
    "           'CompetitionOpenSinceYear', 'Promo2', 'Promo2SinceWeek',\n",
    "           'Promo2SinceYear', 'PromoInterval']\n",
    "\n",
    "# coloco as colunas no estilo snake_case\n",
    "snake_case = lambda x : inflection.underscore( x ) # defino a lambda function\n",
    "\n",
    "# aplico o map para cada nome cols_old e crio a lista cols_new\n",
    "cols_new = list( map( snake_case, cols_old ) )\n",
    "\n",
    "# renomeio as coluanas do dataset\n",
    "df1.columns = cols_new"
   ]
  },
  {
   "cell_type": "markdown",
   "id": "1d89709b",
   "metadata": {},
   "source": [
    "## 1.2. Data Dimensions"
   ]
  },
  {
   "cell_type": "code",
   "execution_count": 5,
   "id": "be41140e",
   "metadata": {
    "ExecuteTime": {
     "end_time": "2023-03-01T19:26:44.801514Z",
     "start_time": "2023-03-01T19:26:44.792537Z"
    }
   },
   "outputs": [
    {
     "name": "stdout",
     "output_type": "stream",
     "text": [
      "Number of rows 1017209\n",
      "Number of columns 18\n"
     ]
    }
   ],
   "source": [
    "print( 'Number of rows {}'.format( df1.shape[0] ) )\n",
    "print( 'Number of columns {}'.format( df1.shape[1] ) )"
   ]
  },
  {
   "cell_type": "markdown",
   "id": "f2ce5d12",
   "metadata": {},
   "source": [
    "## 1.3. Data Types"
   ]
  },
  {
   "cell_type": "code",
   "execution_count": 6,
   "id": "82751fb6",
   "metadata": {
    "ExecuteTime": {
     "end_time": "2023-03-01T19:26:47.107078Z",
     "start_time": "2023-03-01T19:26:46.968760Z"
    }
   },
   "outputs": [
    {
     "name": "stdout",
     "output_type": "stream",
     "text": [
      "store                                    int64\n",
      "day_of_week                              int64\n",
      "date                            datetime64[ns]\n",
      "sales                                    int64\n",
      "customers                                int64\n",
      "open                                     int64\n",
      "promo                                    int64\n",
      "state_holiday                           object\n",
      "school_holiday                           int64\n",
      "store_type                              object\n",
      "assortment                              object\n",
      "competition_distance                   float64\n",
      "competition_open_since_month           float64\n",
      "competition_open_since_year            float64\n",
      "promo2                                   int64\n",
      "promo2_since_week                      float64\n",
      "promo2_since_year                      float64\n",
      "promo_interval                          object\n",
      "dtype: object\n"
     ]
    }
   ],
   "source": [
    "# alterando o tipo da coluna date de int para date 64 \n",
    "df1['date'] = pd.to_datetime( df1['date'] )\n",
    "\n",
    "# exibindo os tipos de dados\n",
    "print( df1.dtypes )"
   ]
  },
  {
   "cell_type": "markdown",
   "id": "3c90f74e",
   "metadata": {},
   "source": [
    "## 1.4. Check NA"
   ]
  },
  {
   "cell_type": "code",
   "execution_count": 7,
   "id": "04d8b7b7",
   "metadata": {
    "ExecuteTime": {
     "end_time": "2023-03-01T19:26:50.924919Z",
     "start_time": "2023-03-01T19:26:50.008847Z"
    }
   },
   "outputs": [
    {
     "data": {
      "text/plain": [
       "store                                0\n",
       "day_of_week                          0\n",
       "date                                 0\n",
       "sales                                0\n",
       "customers                            0\n",
       "open                                 0\n",
       "promo                                0\n",
       "state_holiday                        0\n",
       "school_holiday                       0\n",
       "store_type                           0\n",
       "assortment                           0\n",
       "competition_distance              2642\n",
       "competition_open_since_month    323348\n",
       "competition_open_since_year     323348\n",
       "promo2                               0\n",
       "promo2_since_week               508031\n",
       "promo2_since_year               508031\n",
       "promo_interval                  508031\n",
       "dtype: int64"
      ]
     },
     "execution_count": 7,
     "metadata": {},
     "output_type": "execute_result"
    }
   ],
   "source": [
    "df1.isna().sum()"
   ]
  },
  {
   "cell_type": "markdown",
   "id": "2665ccc1",
   "metadata": {},
   "source": [
    "## 1.5. Fillout NA"
   ]
  },
  {
   "cell_type": "code",
   "execution_count": 8,
   "id": "919949fe",
   "metadata": {
    "ExecuteTime": {
     "end_time": "2023-03-01T19:27:46.069234Z",
     "start_time": "2023-03-01T19:26:54.408446Z"
    }
   },
   "outputs": [],
   "source": [
    "#competition_distance - Considero que na é igual a não competição. Se eu subsituir na por uma distancia muito grande seria o mesmo que dizer que não existe competição ( o valor máximo df1['competition_distance'] é 75860.0 )\n",
    "df1['competition_distance'] = df1['competition_distance'].apply( lambda x: 200000 if math.isnan( x ) else x )\n",
    "\n",
    "\n",
    "#competition_open_since_month - Considero que quando tiver \"na\" o competidor abriu no mesmo mes da coluna date ( data da venda ) -- para cada linha \"na\" pego o mes da coluna date e substituo na coluna competition_open_since_month\n",
    "df1['competition_open_since_month'] = df1.apply( lambda x: x['date'].month if math.isnan( x['competition_open_since_month'] ) else x['competition_open_since_month'], axis = 1 )\n",
    "\n",
    "#competition_open_since_year - mesma lógica do competition_open_since_month mas aplicado ao ano\n",
    "df1['competition_open_since_year'] = df1.apply( lambda x : x['date'].year if math.isnan( x['competition_open_since_year']                                                 ) else x['competition_open_since_year'], axis = 1)\n",
    "\n",
    "#promo2_since_week - Vou considerar que onde tiver \"na\" a loja não participou da promoção. Então vou substituir o na pela semana da data na coluna date ( data da venda)\n",
    "df1['promo2_since_week'] = df1.apply( lambda x: x['date'].week if math.isnan( x['promo2_since_week'] ) else x['promo2_since_week'] , axis = 1)\n",
    "\n",
    "#promo2_since_year - mesma lógica da promo2_since_week só que substituindo pelo ano\n",
    "df1['promo2_since_year'] = df1.apply( lambda x : x['date'].year if math.isnan( x['promo2_since_year'] ) else x['promo2_since_year'] , axis = 1 )\n",
    "\n",
    "#promo_interval\n",
    "month_map = { 1 : 'Jan', 2 :  'Feb', 3 : 'Mar', 4 : 'Apr', 5 : 'May', 6 : 'Jun', 7 : 'Jul', 8 : 'Aug', 9 : 'Sept', 10 : 'Oct', 11 : 'Nov', 12 : 'Dec'  } # crio um dicionario com os meses de acordo com os valores da coluna promo_interval\n",
    "\n",
    "df1['month_map'] = df1['date'].dt.month.map( month_map ) # substituo o numero do mes pelo nome\n",
    "\n",
    "df1['promo_interval'].fillna( 0 , inplace = True ) # substituo os na por 0\n",
    "\n",
    "df1['is_promo'] = df1[['promo_interval','month_map']].apply(lambda x : 0 if x['promo_interval'] == 0 else 1 if x['month_map'] in x['promo_interval'].split( ',' ) else 0, axis = 1) # para cada linha verifico se o valor da coluna month_map existe na coluna promo_interval, se existir retorno 1 ( participa da promoção ) se não existir 0 ( não participa )\n",
    "\n"
   ]
  },
  {
   "cell_type": "markdown",
   "id": "59fb6054",
   "metadata": {},
   "source": [
    "## 1.6. Change Types"
   ]
  },
  {
   "cell_type": "code",
   "execution_count": 9,
   "id": "d1400f21",
   "metadata": {
    "ExecuteTime": {
     "end_time": "2023-03-01T19:27:53.642347Z",
     "start_time": "2023-03-01T19:27:53.632375Z"
    }
   },
   "outputs": [
    {
     "data": {
      "text/plain": [
       "store                                    int64\n",
       "day_of_week                              int64\n",
       "date                            datetime64[ns]\n",
       "sales                                    int64\n",
       "customers                                int64\n",
       "open                                     int64\n",
       "promo                                    int64\n",
       "state_holiday                           object\n",
       "school_holiday                           int64\n",
       "store_type                              object\n",
       "assortment                              object\n",
       "competition_distance                   float64\n",
       "competition_open_since_month           float64\n",
       "competition_open_since_year            float64\n",
       "promo2                                   int64\n",
       "promo2_since_week                      float64\n",
       "promo2_since_year                      float64\n",
       "promo_interval                          object\n",
       "month_map                               object\n",
       "is_promo                                 int64\n",
       "dtype: object"
      ]
     },
     "execution_count": 9,
     "metadata": {},
     "output_type": "execute_result"
    }
   ],
   "source": [
    "# verifico se durante a etapa de fill na os tipos de dados se mantiveram inalterados\n",
    "df1.dtypes"
   ]
  },
  {
   "cell_type": "code",
   "execution_count": 10,
   "id": "689927b1",
   "metadata": {
    "ExecuteTime": {
     "end_time": "2023-03-01T19:27:56.436218Z",
     "start_time": "2023-03-01T19:27:56.368829Z"
    }
   },
   "outputs": [],
   "source": [
    "# alterando o tipo da coluna competition_open_since_month  de float64 para int\n",
    "df1['competition_open_since_month'] = df1['competition_open_since_month'].astype( 'int64' )\n",
    "\n",
    "# alterando o tipo da coluna competition_open_since_year de float64 para int\n",
    "df1['competition_open_since_year'] = df1['competition_open_since_year'].astype( 'int64' )\n",
    "\n",
    "# alterando o tipo da coluna promo2_since_week de float 64para int\n",
    "df1['promo2_since_week'] = df1['promo2_since_week'].astype( 'int64' )\n",
    "\n",
    "# alterando o tipo da coluna promo2_since_year de float64 para int\n",
    "df1['promo2_since_year'] = df1['promo2_since_year'].astype( 'int64' ) "
   ]
  },
  {
   "cell_type": "code",
   "execution_count": 11,
   "id": "908a581f",
   "metadata": {
    "ExecuteTime": {
     "end_time": "2023-03-01T19:27:59.224889Z",
     "start_time": "2023-03-01T19:27:59.208273Z"
    }
   },
   "outputs": [
    {
     "data": {
      "text/plain": [
       "store                                    int64\n",
       "day_of_week                              int64\n",
       "date                            datetime64[ns]\n",
       "sales                                    int64\n",
       "customers                                int64\n",
       "open                                     int64\n",
       "promo                                    int64\n",
       "state_holiday                           object\n",
       "school_holiday                           int64\n",
       "store_type                              object\n",
       "assortment                              object\n",
       "competition_distance                   float64\n",
       "competition_open_since_month             int64\n",
       "competition_open_since_year              int64\n",
       "promo2                                   int64\n",
       "promo2_since_week                        int64\n",
       "promo2_since_year                        int64\n",
       "promo_interval                          object\n",
       "month_map                               object\n",
       "is_promo                                 int64\n",
       "dtype: object"
      ]
     },
     "execution_count": 11,
     "metadata": {},
     "output_type": "execute_result"
    }
   ],
   "source": [
    "# verifico novamente o tipo de dados\n",
    "df1.dtypes"
   ]
  },
  {
   "cell_type": "markdown",
   "id": "fc54569f",
   "metadata": {},
   "source": [
    "## 1.7. Descriptive Statistical"
   ]
  },
  {
   "cell_type": "code",
   "execution_count": 12,
   "id": "50cbfc8b",
   "metadata": {
    "ExecuteTime": {
     "end_time": "2023-03-01T19:28:12.669358Z",
     "start_time": "2023-03-01T19:28:12.523574Z"
    }
   },
   "outputs": [],
   "source": [
    "# selecionando somente as variáveis numéricas\n",
    "num_attributes = df1.select_dtypes( include = ['int64','float64'] )\n",
    "\n",
    "# selecionando somente as variáveis categóricas\n",
    "cat_attributes = df1.select_dtypes( exclude = ['int64','float64','datetime64[ns]'] )"
   ]
  },
  {
   "cell_type": "markdown",
   "id": "ee8fb73d",
   "metadata": {},
   "source": [
    "## 1.7.1 Numerical Attributes"
   ]
  },
  {
   "cell_type": "code",
   "execution_count": 13,
   "id": "b99be6e8",
   "metadata": {
    "ExecuteTime": {
     "end_time": "2023-03-01T19:28:17.204423Z",
     "start_time": "2023-03-01T19:28:16.288063Z"
    }
   },
   "outputs": [
    {
     "data": {
      "text/html": [
       "<div>\n",
       "<style scoped>\n",
       "    .dataframe tbody tr th:only-of-type {\n",
       "        vertical-align: middle;\n",
       "    }\n",
       "\n",
       "    .dataframe tbody tr th {\n",
       "        vertical-align: top;\n",
       "    }\n",
       "\n",
       "    .dataframe thead th {\n",
       "        text-align: right;\n",
       "    }\n",
       "</style>\n",
       "<table border=\"1\" class=\"dataframe\">\n",
       "  <thead>\n",
       "    <tr style=\"text-align: right;\">\n",
       "      <th></th>\n",
       "      <th>features</th>\n",
       "      <th>min</th>\n",
       "      <th>max</th>\n",
       "      <th>range</th>\n",
       "      <th>mean</th>\n",
       "      <th>median</th>\n",
       "      <th>std</th>\n",
       "      <th>skew</th>\n",
       "      <th>kurtosis</th>\n",
       "    </tr>\n",
       "  </thead>\n",
       "  <tbody>\n",
       "    <tr>\n",
       "      <th>0</th>\n",
       "      <td>store</td>\n",
       "      <td>1.0</td>\n",
       "      <td>1115.0</td>\n",
       "      <td>1114.0</td>\n",
       "      <td>558.429727</td>\n",
       "      <td>558.0</td>\n",
       "      <td>321.908493</td>\n",
       "      <td>-0.000955</td>\n",
       "      <td>-1.200524</td>\n",
       "    </tr>\n",
       "    <tr>\n",
       "      <th>1</th>\n",
       "      <td>day_of_week</td>\n",
       "      <td>1.0</td>\n",
       "      <td>7.0</td>\n",
       "      <td>6.0</td>\n",
       "      <td>3.998341</td>\n",
       "      <td>4.0</td>\n",
       "      <td>1.997390</td>\n",
       "      <td>0.001593</td>\n",
       "      <td>-1.246873</td>\n",
       "    </tr>\n",
       "    <tr>\n",
       "      <th>2</th>\n",
       "      <td>sales</td>\n",
       "      <td>0.0</td>\n",
       "      <td>41551.0</td>\n",
       "      <td>41551.0</td>\n",
       "      <td>5773.818972</td>\n",
       "      <td>5744.0</td>\n",
       "      <td>3849.924283</td>\n",
       "      <td>0.641460</td>\n",
       "      <td>1.778375</td>\n",
       "    </tr>\n",
       "    <tr>\n",
       "      <th>3</th>\n",
       "      <td>customers</td>\n",
       "      <td>0.0</td>\n",
       "      <td>7388.0</td>\n",
       "      <td>7388.0</td>\n",
       "      <td>633.145946</td>\n",
       "      <td>609.0</td>\n",
       "      <td>464.411506</td>\n",
       "      <td>1.598650</td>\n",
       "      <td>7.091773</td>\n",
       "    </tr>\n",
       "    <tr>\n",
       "      <th>4</th>\n",
       "      <td>open</td>\n",
       "      <td>0.0</td>\n",
       "      <td>1.0</td>\n",
       "      <td>1.0</td>\n",
       "      <td>0.830107</td>\n",
       "      <td>1.0</td>\n",
       "      <td>0.375539</td>\n",
       "      <td>-1.758045</td>\n",
       "      <td>1.090723</td>\n",
       "    </tr>\n",
       "    <tr>\n",
       "      <th>5</th>\n",
       "      <td>promo</td>\n",
       "      <td>0.0</td>\n",
       "      <td>1.0</td>\n",
       "      <td>1.0</td>\n",
       "      <td>0.381515</td>\n",
       "      <td>0.0</td>\n",
       "      <td>0.485758</td>\n",
       "      <td>0.487838</td>\n",
       "      <td>-1.762018</td>\n",
       "    </tr>\n",
       "    <tr>\n",
       "      <th>6</th>\n",
       "      <td>school_holiday</td>\n",
       "      <td>0.0</td>\n",
       "      <td>1.0</td>\n",
       "      <td>1.0</td>\n",
       "      <td>0.178647</td>\n",
       "      <td>0.0</td>\n",
       "      <td>0.383056</td>\n",
       "      <td>1.677842</td>\n",
       "      <td>0.815154</td>\n",
       "    </tr>\n",
       "    <tr>\n",
       "      <th>7</th>\n",
       "      <td>competition_distance</td>\n",
       "      <td>20.0</td>\n",
       "      <td>200000.0</td>\n",
       "      <td>199980.0</td>\n",
       "      <td>5935.442677</td>\n",
       "      <td>2330.0</td>\n",
       "      <td>12547.646829</td>\n",
       "      <td>10.242344</td>\n",
       "      <td>147.789712</td>\n",
       "    </tr>\n",
       "    <tr>\n",
       "      <th>8</th>\n",
       "      <td>competition_open_since_month</td>\n",
       "      <td>1.0</td>\n",
       "      <td>12.0</td>\n",
       "      <td>11.0</td>\n",
       "      <td>6.786849</td>\n",
       "      <td>7.0</td>\n",
       "      <td>3.311085</td>\n",
       "      <td>-0.042076</td>\n",
       "      <td>-1.232607</td>\n",
       "    </tr>\n",
       "    <tr>\n",
       "      <th>9</th>\n",
       "      <td>competition_open_since_year</td>\n",
       "      <td>1900.0</td>\n",
       "      <td>2015.0</td>\n",
       "      <td>115.0</td>\n",
       "      <td>2010.324840</td>\n",
       "      <td>2012.0</td>\n",
       "      <td>5.515591</td>\n",
       "      <td>-7.235657</td>\n",
       "      <td>124.071304</td>\n",
       "    </tr>\n",
       "    <tr>\n",
       "      <th>10</th>\n",
       "      <td>promo2</td>\n",
       "      <td>0.0</td>\n",
       "      <td>1.0</td>\n",
       "      <td>1.0</td>\n",
       "      <td>0.500564</td>\n",
       "      <td>1.0</td>\n",
       "      <td>0.500000</td>\n",
       "      <td>-0.002255</td>\n",
       "      <td>-1.999999</td>\n",
       "    </tr>\n",
       "    <tr>\n",
       "      <th>11</th>\n",
       "      <td>promo2_since_week</td>\n",
       "      <td>1.0</td>\n",
       "      <td>52.0</td>\n",
       "      <td>51.0</td>\n",
       "      <td>23.619033</td>\n",
       "      <td>22.0</td>\n",
       "      <td>14.310057</td>\n",
       "      <td>0.178723</td>\n",
       "      <td>-1.184046</td>\n",
       "    </tr>\n",
       "    <tr>\n",
       "      <th>12</th>\n",
       "      <td>promo2_since_year</td>\n",
       "      <td>2009.0</td>\n",
       "      <td>2015.0</td>\n",
       "      <td>6.0</td>\n",
       "      <td>2012.793297</td>\n",
       "      <td>2013.0</td>\n",
       "      <td>1.662657</td>\n",
       "      <td>-0.784436</td>\n",
       "      <td>-0.210075</td>\n",
       "    </tr>\n",
       "    <tr>\n",
       "      <th>13</th>\n",
       "      <td>is_promo</td>\n",
       "      <td>0.0</td>\n",
       "      <td>1.0</td>\n",
       "      <td>1.0</td>\n",
       "      <td>0.171835</td>\n",
       "      <td>0.0</td>\n",
       "      <td>0.377237</td>\n",
       "      <td>1.739838</td>\n",
       "      <td>1.027039</td>\n",
       "    </tr>\n",
       "  </tbody>\n",
       "</table>\n",
       "</div>"
      ],
      "text/plain": [
       "                        features     min       max     range         mean  \\\n",
       "0                          store     1.0    1115.0    1114.0   558.429727   \n",
       "1                    day_of_week     1.0       7.0       6.0     3.998341   \n",
       "2                          sales     0.0   41551.0   41551.0  5773.818972   \n",
       "3                      customers     0.0    7388.0    7388.0   633.145946   \n",
       "4                           open     0.0       1.0       1.0     0.830107   \n",
       "5                          promo     0.0       1.0       1.0     0.381515   \n",
       "6                 school_holiday     0.0       1.0       1.0     0.178647   \n",
       "7           competition_distance    20.0  200000.0  199980.0  5935.442677   \n",
       "8   competition_open_since_month     1.0      12.0      11.0     6.786849   \n",
       "9    competition_open_since_year  1900.0    2015.0     115.0  2010.324840   \n",
       "10                        promo2     0.0       1.0       1.0     0.500564   \n",
       "11             promo2_since_week     1.0      52.0      51.0    23.619033   \n",
       "12             promo2_since_year  2009.0    2015.0       6.0  2012.793297   \n",
       "13                      is_promo     0.0       1.0       1.0     0.171835   \n",
       "\n",
       "    median           std       skew    kurtosis  \n",
       "0    558.0    321.908493  -0.000955   -1.200524  \n",
       "1      4.0      1.997390   0.001593   -1.246873  \n",
       "2   5744.0   3849.924283   0.641460    1.778375  \n",
       "3    609.0    464.411506   1.598650    7.091773  \n",
       "4      1.0      0.375539  -1.758045    1.090723  \n",
       "5      0.0      0.485758   0.487838   -1.762018  \n",
       "6      0.0      0.383056   1.677842    0.815154  \n",
       "7   2330.0  12547.646829  10.242344  147.789712  \n",
       "8      7.0      3.311085  -0.042076   -1.232607  \n",
       "9   2012.0      5.515591  -7.235657  124.071304  \n",
       "10     1.0      0.500000  -0.002255   -1.999999  \n",
       "11    22.0     14.310057   0.178723   -1.184046  \n",
       "12  2013.0      1.662657  -0.784436   -0.210075  \n",
       "13     0.0      0.377237   1.739838    1.027039  "
      ]
     },
     "execution_count": 13,
     "metadata": {},
     "output_type": "execute_result"
    }
   ],
   "source": [
    "# Central tendency - mean, median\n",
    "ct1 = pd.DataFrame( num_attributes.apply( np.mean ) ).T # calculado a media das colunas -- aplica em todas colunas\n",
    "ct2 = pd.DataFrame( num_attributes.apply( np.median) ).T # calculando a mediana\n",
    "\n",
    "# Dispersion - std, min, max, range, skew, kurtosis\n",
    "d1 = pd.DataFrame( num_attributes.apply( np.std ) ).T # calculando o std \n",
    "d2 = pd.DataFrame( num_attributes.apply( np.min ) ).T # calculando o min\n",
    "d3 = pd.DataFrame( num_attributes.apply( np.max ) ).T # calculando o max\n",
    "d4 = pd.DataFrame( num_attributes.apply( lambda x: x.max() - x.min()  ) ).T # calcula o range\n",
    "d5 = pd.DataFrame( num_attributes.apply( lambda x: x.skew() ) ).T # calcula o skew\n",
    "d6 = pd.DataFrame( num_attributes.apply( lambda x: x.kurtosis() ) ).T # calcula o kurtosis\n",
    "\n",
    "# concatenate\n",
    "m = pd.concat( [d2,d3,d4,ct1,ct2,d1,d5,d6] ).T.reset_index()\n",
    "m.columns = ['features','min','max','range','mean','median','std','skew','kurtosis'] \n",
    "m"
   ]
  },
  {
   "cell_type": "markdown",
   "id": "c6094359",
   "metadata": {
    "ExecuteTime": {
     "end_time": "2023-03-01T19:30:16.432592Z",
     "start_time": "2023-03-01T19:30:14.832825Z"
    }
   },
   "source": [
    "## 1.7.2 Categorical Attributes"
   ]
  },
  {
   "cell_type": "code",
   "execution_count": 18,
   "id": "91cc566a",
   "metadata": {
    "ExecuteTime": {
     "end_time": "2023-03-01T19:38:50.271774Z",
     "start_time": "2023-03-01T19:38:49.928597Z"
    }
   },
   "outputs": [
    {
     "name": "stdout",
     "output_type": "stream",
     "text": [
      "state_holiday      4\n",
      "store_type         4\n",
      "assortment         3\n",
      "promo_interval     4\n",
      "month_map         12\n",
      "dtype: int64\n",
      "state_holiday                                          [0, a, b, c]\n",
      "store_type                                             [c, a, d, b]\n",
      "assortment                                                [a, c, b]\n",
      "promo_interval    [0, Jan,Apr,Jul,Oct, Feb,May,Aug,Nov, Mar,Jun,...\n",
      "month_map         [Jul, Jun, May, Apr, Mar, Feb, Jan, Dec, Nov, ...\n",
      "dtype: object\n"
     ]
    }
   ],
   "source": [
    "# verifico quantos valores unicos tenho nos atributos categoricos\n",
    "print( cat_attributes.apply( lambda x: x.unique().shape[0] ) )\n",
    "\n",
    "# verifico os valores unicos tenho nos atributos categoricos\n",
    "print( cat_attributes.apply( lambda x: x.unique() ) )"
   ]
  },
  {
   "cell_type": "code",
   "execution_count": 37,
   "id": "8b977d2b",
   "metadata": {
    "ExecuteTime": {
     "end_time": "2023-03-01T19:58:24.501359Z",
     "start_time": "2023-03-01T19:58:23.848289Z"
    }
   },
   "outputs": [
    {
     "data": {
      "text/plain": [
       "<Axes: xlabel='assortment', ylabel='sales'>"
      ]
     },
     "execution_count": 37,
     "metadata": {},
     "output_type": "execute_result"
    },
    {
     "data": {
      "image/png": "[encoded data removed]",
      "text/plain": [
       "<Figure size 1500x1000 with 3 Axes>"
      ]
     },
     "metadata": {},
     "output_type": "display_data"
    }
   ],
   "source": [
    "# filtro o df1 para plotar o grafico\n",
    "aux1 = df1.loc[ (df1['state_holiday'] != '0') & (df1['sales'] > 0), : ]\n",
    "\n",
    "# defino o tamanho dos graficos\n",
    "plt.figure( figsize = ( 15,10 ) )\n",
    "\n",
    "# plotando o grafico boxplot para entender a dispersao das variaveis categoricas em relacao as vendas \n",
    "plt.subplot( 1 ,3 , 1 )\n",
    "sns.boxplot( x = 'state_holiday', y = 'sales', data = aux1 )\n",
    "\n",
    "plt.subplot( 1, 3 , 2 )\n",
    "sns.boxplot( x = 'store_type', y = 'sales', data = aux1 )\n",
    "\n",
    "plt.subplot( 1, 3 , 3 )\n",
    "sns.boxplot( x = 'assortment', y = 'sales', data = aux1 )"
   ]
  },
  {
   "cell_type": "markdown",
   "id": "4e17ab3e",
   "metadata": {},
   "source": [
    "# .0"
   ]
  },
  {
   "cell_type": "markdown",
   "id": "8fe4b2d7",
   "metadata": {},
   "source": [
    "# .0"
   ]
  },
  {
   "cell_type": "code",
   "execution_count": null,
   "id": "1b4b7e7d",
   "metadata": {},
   "outputs": [],
   "source": []
  },
  {
   "cell_type": "code",
   "execution_count": null,
   "id": "ba85f261",
   "metadata": {},
   "outputs": [],
   "source": []
  },
  {
   "cell_type": "code",
   "execution_count": null,
   "id": "8542eabe",
   "metadata": {},
   "outputs": [],
   "source": []
  },
  {
   "cell_type": "code",
   "execution_count": null,
   "id": "9d147388",
   "metadata": {},
   "outputs": [],
   "source": []
  },
  {
   "cell_type": "code",
   "execution_count": null,
   "id": "e33ad40a",
   "metadata": {},
   "outputs": [],
   "source": []
  }
 ],
 "metadata": {
  "kernelspec": {
   "display_name": "rossmann",
   "language": "python",
   "name": "rossmann"
  },
  "language_info": {
   "codemirror_mode": {
    "name": "ipython",
    "version": 3
   },
   "file_extension": ".py",
   "mimetype": "text/x-python",
   "name": "python",
   "nbconvert_exporter": "python",
   "pygments_lexer": "ipython3",
   "version": "3.9.16"
  }
 },
 "nbformat": 4,
 "nbformat_minor": 5
}
