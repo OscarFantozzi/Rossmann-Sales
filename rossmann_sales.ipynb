{
 "cells": [
  {
   "cell_type": "markdown",
   "id": "1f4cc20d",
   "metadata": {},
   "source": [
    "# 0.0. IMPORTS"
   ]
  },
  {
   "cell_type": "code",
   "execution_count": 40,
   "id": "d65a9634",
   "metadata": {
    "ExecuteTime": {
     "end_time": "2023-02-25T12:14:37.041771Z",
     "start_time": "2023-02-25T12:14:37.034789Z"
    }
   },
   "outputs": [],
   "source": [
    "import pandas as pd\n",
    "import inflection\n",
    "import math"
   ]
  },
  {
   "cell_type": "markdown",
   "id": "0ab8b1d7",
   "metadata": {},
   "source": [
    "## 0.1.0 Helper Functions"
   ]
  },
  {
   "cell_type": "markdown",
   "id": "db019c5c",
   "metadata": {},
   "source": [
    "## 0.2.0. Loading Data"
   ]
  },
  {
   "cell_type": "code",
   "execution_count": 28,
   "id": "6570a8cc",
   "metadata": {
    "ExecuteTime": {
     "end_time": "2023-02-25T11:59:25.347583Z",
     "start_time": "2023-02-25T11:59:24.372395Z"
    }
   },
   "outputs": [],
   "source": [
    "# arquivo com as vendas das lojas\n",
    "df_sales_raw = pd.read_csv( 'data/train.csv', low_memory = False )\n",
    "\n",
    "# arquivo com as caracteristicas das lojas\n",
    "df_store_raw = pd.read_csv( 'data/store.csv', low_memory = False )\n",
    "\n",
    "# merge com base na chave comum \"Store\"\n",
    "df_raw = pd.merge( df_sales_raw, df_store_raw, how = 'left', on = 'Store' )"
   ]
  },
  {
   "cell_type": "markdown",
   "id": "89882ec2",
   "metadata": {},
   "source": [
    "# 1.0. DESCRIÇÃO DOS DADOS"
   ]
  },
  {
   "cell_type": "code",
   "execution_count": 83,
   "id": "a3e29215",
   "metadata": {
    "ExecuteTime": {
     "end_time": "2023-02-25T13:42:59.414493Z",
     "start_time": "2023-02-25T13:42:59.222923Z"
    }
   },
   "outputs": [],
   "source": [
    "df1 = df_raw.copy()"
   ]
  },
  {
   "cell_type": "markdown",
   "id": "2ee7be6b",
   "metadata": {
    "heading_collapsed": true
   },
   "source": [
    "## Explicação das colunas\n",
    "\n",
    "* store - ID único para cada loja\n",
    "\n",
    "\n",
    "* day_of_week - dia da semana em números inteiros\n",
    "\n",
    "\n",
    "* date - data que foi feita a venda\n",
    "\n",
    "\n",
    "* sales - valor das vendas em determinado dia\n",
    "\n",
    "\n",
    "* customers - número de clientes em determinado dia\n",
    "\n",
    "\n",
    "* open - indicador se a loja estava aberta e fechada 0 = closed, 1 = open\n",
    "\n",
    "\n",
    "* promo - Indica se a loja estava com promoção naquele dia\n",
    "\n",
    "\n",
    "* state_holiday - indicates a state holiday. Normally all stores, with few exceptions, are closed on state holidays. Note that all schools are closed on public holidays and weekends. a = public holiday, b = Easter holiday, c = Christmas, 0 = None\n",
    "\n",
    "\n",
    "* school_holiday - indicates if the (Store, Date) was affected by the closure of public schools\n",
    "\n",
    "\n",
    "\n",
    "* store_type - differentiates between 4 different store models: a, b, c, d\n",
    "\n",
    "\n",
    "* assortment - describes an assortment level: a = basic, b = extra, c = extended\n",
    "\n",
    "\n",
    "* competition_distance - distance in meters to the nearest competitor store\n",
    "\n",
    "\n",
    "* competition_open_since_month - gives the approximate month of the time the nearest competitor was opened\n",
    "\n",
    "\n",
    "* competition_open_since_year - gives the approximate year of the time the nearest competitor was opened\n",
    "\n",
    "\n",
    "* promo2 - Promo2 is a continuing and consecutive promotion for some stores: 0 = store is not participating, 1 = store is participating\n",
    "\n",
    "\n",
    "\n",
    "* promo2_since_week - describes the week when the store started participating in Promo2\n",
    "\n",
    "\n",
    "* promo2_since_year - describes the year when the store started participating in Promo2\n",
    "\n",
    "\n",
    "* promo_interval - describes the consecutive intervals Promo2 is started, naming the months the promotion is started anew. E.g. \"Feb,May,Aug,Nov\" means each round starts in February, May, August, November of any given year for that store\n",
    "\n"
   ]
  },
  {
   "cell_type": "markdown",
   "id": "a85083b8",
   "metadata": {},
   "source": [
    "## 1.1. Rename Columns"
   ]
  },
  {
   "cell_type": "code",
   "execution_count": 84,
   "id": "987a12d8",
   "metadata": {
    "ExecuteTime": {
     "end_time": "2023-02-25T13:43:01.306875Z",
     "start_time": "2023-02-25T13:43:01.294868Z"
    }
   },
   "outputs": [],
   "source": [
    "# crio uma lista com o nome das colunas antigos\n",
    "cols_old = ['Store', 'DayOfWeek', 'Date', 'Sales', 'Customers', 'Open', 'Promo',\n",
    "           'StateHoliday', 'SchoolHoliday', 'StoreType', 'Assortment',\n",
    "           'CompetitionDistance', 'CompetitionOpenSinceMonth',\n",
    "           'CompetitionOpenSinceYear', 'Promo2', 'Promo2SinceWeek',\n",
    "           'Promo2SinceYear', 'PromoInterval']\n",
    "\n",
    "# coloco as colunas no estilo snake_case\n",
    "snake_case = lambda x : inflection.underscore( x ) # defino a lambda function\n",
    "\n",
    "# aplico o map para cada nome cols_old e crio a lista cols_new\n",
    "cols_new = list( map( snake_case, cols_old ) )\n",
    "\n",
    "# renomeio as coluanas do dataset\n",
    "df1.columns = cols_new"
   ]
  },
  {
   "cell_type": "markdown",
   "id": "1d89709b",
   "metadata": {},
   "source": [
    "## 1.2. Data Dimensions"
   ]
  },
  {
   "cell_type": "code",
   "execution_count": 85,
   "id": "be41140e",
   "metadata": {
    "ExecuteTime": {
     "end_time": "2023-02-25T13:43:03.739703Z",
     "start_time": "2023-02-25T13:43:03.726695Z"
    }
   },
   "outputs": [
    {
     "name": "stdout",
     "output_type": "stream",
     "text": [
      "Number of rows 1017209\n",
      "Number of columns 18\n"
     ]
    }
   ],
   "source": [
    "print( 'Number of rows {}'.format( df1.shape[0] ) )\n",
    "print( 'Number of columns {}'.format( df1.shape[1] ) )"
   ]
  },
  {
   "cell_type": "markdown",
   "id": "f2ce5d12",
   "metadata": {},
   "source": [
    "## 1.3. Data Types"
   ]
  },
  {
   "cell_type": "code",
   "execution_count": 87,
   "id": "82751fb6",
   "metadata": {
    "ExecuteTime": {
     "end_time": "2023-02-25T13:43:11.577321Z",
     "start_time": "2023-02-25T13:43:11.526916Z"
    }
   },
   "outputs": [
    {
     "name": "stdout",
     "output_type": "stream",
     "text": [
      "store                                    int64\n",
      "day_of_week                              int64\n",
      "date                            datetime64[ns]\n",
      "sales                                    int64\n",
      "customers                                int64\n",
      "open                                     int64\n",
      "promo                                    int64\n",
      "state_holiday                           object\n",
      "school_holiday                           int64\n",
      "store_type                              object\n",
      "assortment                              object\n",
      "competition_distance                   float64\n",
      "competition_open_since_month           float64\n",
      "competition_open_since_year            float64\n",
      "promo2                                   int64\n",
      "promo2_since_week                      float64\n",
      "promo2_since_year                      float64\n",
      "promo_interval                          object\n",
      "dtype: object\n"
     ]
    }
   ],
   "source": [
    "# alterando o tipo da coluna date de int para date 64 \n",
    "df1['date'] = pd.to_datetime( df1['date'] )\n",
    "\n",
    "# exibindo os tipos de dados\n",
    "print( df1.dtypes )"
   ]
  },
  {
   "cell_type": "markdown",
   "id": "3c90f74e",
   "metadata": {},
   "source": [
    "## 1.4. Check NA"
   ]
  },
  {
   "cell_type": "code",
   "execution_count": 88,
   "id": "04d8b7b7",
   "metadata": {
    "ExecuteTime": {
     "end_time": "2023-02-25T13:43:14.317194Z",
     "start_time": "2023-02-25T13:43:13.822635Z"
    }
   },
   "outputs": [
    {
     "data": {
      "text/plain": [
       "store                                0\n",
       "day_of_week                          0\n",
       "date                                 0\n",
       "sales                                0\n",
       "customers                            0\n",
       "open                                 0\n",
       "promo                                0\n",
       "state_holiday                        0\n",
       "school_holiday                       0\n",
       "store_type                           0\n",
       "assortment                           0\n",
       "competition_distance              2642\n",
       "competition_open_since_month    323348\n",
       "competition_open_since_year     323348\n",
       "promo2                               0\n",
       "promo2_since_week               508031\n",
       "promo2_since_year               508031\n",
       "promo_interval                  508031\n",
       "dtype: int64"
      ]
     },
     "execution_count": 88,
     "metadata": {},
     "output_type": "execute_result"
    }
   ],
   "source": [
    "df1.isna().sum()"
   ]
  },
  {
   "cell_type": "markdown",
   "id": "2665ccc1",
   "metadata": {},
   "source": [
    "## 1.5. Fillout NA"
   ]
  },
  {
   "cell_type": "code",
   "execution_count": 92,
   "id": "919949fe",
   "metadata": {
    "ExecuteTime": {
     "end_time": "2023-02-25T13:47:37.759102Z",
     "start_time": "2023-02-25T13:46:49.927356Z"
    }
   },
   "outputs": [],
   "source": [
    "#competition_distance - Considero que na é igual a não competição. Se eu subsituir na por uma distancia muito grande seria o mesmo que dizer que não existe competiçã ( o valor máximo df1['competition_distance'] é 75860.0 )\n",
    "df1['competition_distance'] = df1['competition_distance'].apply( lambda x: 200000 if math.isnan( x ) else x )\n",
    "\n",
    "\n",
    "#competition_open_since_month - Considero que quando tiver na o competidor abriu no mesmo mes da coluna date ( data da venda ) -- para cada linha na pego o mes da coluna date e substituo na coluna competition_open_since_month\n",
    "df1['competition_open_since_month'] = df1.apply( lambda x: x['date'].month if math.isnan( x['competition_open_since_month'] ) else x['competition_open_since_month'], axis = 1 )\n",
    "\n",
    "#competition_open_since_year - mesma lógica do competition_open_since_month mas aplicado ao ano\n",
    "df1['competition_open_since_year'] = df1.apply( lambda x : x['date'].year if math.isnan( x['competition_open_since_year']                                                 ) else x['competition_open_since_year'], axis = 1)\n",
    "\n",
    "\n",
    "#promo2_since_week - Vou considerar que na a loja não participou da promoção. Então vou substituir o na pela semana da data na coluna date ( data da venda)\n",
    "df1['promo2_since_week'] = df1.apply( lambda x: x['date'].week if math.isnan( x['promo2_since_week'] ) else x['promo2_since_week'] , axis = 1)\n",
    "\n",
    "#promo2_since_year - mesma lógica da promo2_since_week só que substituindo pelo ano\n",
    "df1['promo2_since_year'] = df1.apply( lambda x : x['date'].year if math.isnan( x['promo2_since_year'] ) else x['promo2_since_year'] , axis = 1 )\n",
    "\n",
    "#promo_interval\n",
    "month_map = { 1 : 'Jan', 2 :  'Feb', 3 : 'Mar', 4 : 'Apr', 5 : 'May', 6 : 'Jun', 7 : 'Jul', 8 : 'Aug', 9 : 'Sept', 10 : 'Oct', 11 : 'Nov', 12 : 'Dec'  } # crio um dicionario com os meses de acordo com os valores da coluna promo_interval\n",
    "\n",
    "df1['month_map'] = df1['date'].dt.month.map( month_map ) # substituo o numero do mes pelo nome\n",
    "\n",
    "df1['promo_interval'].fillna( 0 , inplace = True ) # substituo os na por 0\n",
    "\n",
    "df1['is_promo'] = df1[['promo_interval','month_map']].apply(lambda x : 0 if x['promo_interval'] == 0 else 1 if x['month_map'] in x['promo_interval'].split( ',' ) else 0, axis = 1) # para cada linha verifico se o valor da coluna month_map existe na coluna promo_interval, se existir retorno 1 ( participa da promoção ) se não existir 0 ( não participa )\n",
    "\n"
   ]
  },
  {
   "cell_type": "markdown",
   "id": "59fb6054",
   "metadata": {},
   "source": [
    "# .0"
   ]
  },
  {
   "cell_type": "markdown",
   "id": "fc54569f",
   "metadata": {},
   "source": [
    "# .0"
   ]
  },
  {
   "cell_type": "markdown",
   "id": "4e17ab3e",
   "metadata": {},
   "source": [
    "# .0"
   ]
  },
  {
   "cell_type": "markdown",
   "id": "8fe4b2d7",
   "metadata": {},
   "source": [
    "# .0"
   ]
  }
 ],
 "metadata": {
  "kernelspec": {
   "display_name": "rossmann",
   "language": "python",
   "name": "rossmann"
  },
  "language_info": {
   "codemirror_mode": {
    "name": "ipython",
    "version": 3
   },
   "file_extension": ".py",
   "mimetype": "text/x-python",
   "name": "python",
   "nbconvert_exporter": "python",
   "pygments_lexer": "ipython3",
   "version": "3.9.16"
  }
 },
 "nbformat": 4,
 "nbformat_minor": 5
}
